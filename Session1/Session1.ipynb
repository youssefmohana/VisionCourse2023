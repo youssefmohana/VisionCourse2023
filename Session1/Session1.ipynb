{
 "cells": [
  {
   "cell_type": "markdown",
   "id": "dcdd7104",
   "metadata": {},
   "source": [
    "<img src=\"https://upload.wikimedia.org/wikipedia/commons/thumb/3/32/OpenCV_Logo_with_text_svg_version.svg/800px-OpenCV_Logo_with_text_svg_version.svg.png \" alt=\"drawing\" style=\"width:200px;\"/> "
   ]
  },
  {
   "cell_type": "markdown",
   "id": "2055378c",
   "metadata": {},
   "source": [
    "# Agenda\n",
    "1. Read and Show image **(opencv)**\n",
    "2. Resize , Cropping and Rotating  \n",
    "\n"
   ]
  },
  {
   "cell_type": "markdown",
   "id": "770c30ca",
   "metadata": {},
   "source": [
    "## import Resources and Library"
   ]
  },
  {
   "cell_type": "code",
   "execution_count": 74,
   "id": "0b7bc030",
   "metadata": {},
   "outputs": [],
   "source": [
    "import cv2 as cv \n",
    "\n",
    "path = './images/'"
   ]
  },
  {
   "cell_type": "code",
   "execution_count": 75,
   "id": "b5243220",
   "metadata": {},
   "outputs": [
    {
     "data": {
      "text/plain": [
       "'4.6.0'"
      ]
     },
     "execution_count": 75,
     "metadata": {},
     "output_type": "execute_result"
    }
   ],
   "source": [
    "cv.__version__"
   ]
  },
  {
   "cell_type": "markdown",
   "id": "8eaadeb1",
   "metadata": {},
   "source": [
    "### Read an image from file ([imread(path ,Colorflage)](https://docs.opencv.org/4.x/d4/da8/group__imgcodecs.html#ga288b8b3da0892bd651fce07b3bbd3a56))\n",
    "- **path :**  location of image in files (For example : image\\file\\NameOfImage )\n",
    "- **Colorflage :** to read BGR image value **(1)** and Gray image value **(0)**\n",
    "\n",
    "<img src=\"https://miro.medium.com/v2/resize:fit:640/format:webp/1*rvhKkNrOY86OlMgtaVKA5g.png\" alt=\"drawing\" style=\"width:200px;\"/> "
   ]
  },
  {
   "cell_type": "code",
   "execution_count": 76,
   "id": "7f2bf901",
   "metadata": {},
   "outputs": [],
   "source": [
    "img = cv.imread(path+'dog.jpg') # defuilt"
   ]
  },
  {
   "cell_type": "code",
   "execution_count": 77,
   "id": "d09989e1",
   "metadata": {},
   "outputs": [
    {
     "name": "stdout",
     "output_type": "stream",
     "text": [
      "<class 'numpy.ndarray'>\n"
     ]
    }
   ],
   "source": [
    "print(type(img))"
   ]
  },
  {
   "cell_type": "code",
   "execution_count": 78,
   "id": "d283ae5f",
   "metadata": {},
   "outputs": [],
   "source": [
    "assert img is not None , \"Cant read image gg\""
   ]
  },
  {
   "cell_type": "code",
   "execution_count": 79,
   "id": "fb4e3c9d",
   "metadata": {},
   "outputs": [
    {
     "data": {
      "text/plain": [
       "(300, 332, 3)"
      ]
     },
     "execution_count": 79,
     "metadata": {},
     "output_type": "execute_result"
    }
   ],
   "source": [
    "img.shape\n",
    "# (Height , Width , numberofchannels)"
   ]
  },
  {
   "cell_type": "markdown",
   "id": "4eb9344b",
   "metadata": {},
   "source": [
    "### Display an image in an OpenCV window ([imshow(title ,img)](https://docs.opencv.org/4.x/d7/dfc/group__highgui.html#ga453d42fe4cb60e5723281a89973ee563))\n",
    "- Arguments:\n",
    "    - title of window\n",
    "    - image object"
   ]
  },
  {
   "cell_type": "code",
   "execution_count": 80,
   "id": "a31b0131",
   "metadata": {},
   "outputs": [],
   "source": [
    "cv.imshow(\"Dog image \", img)\n",
    "k = cv.waitKey(0)\n",
    "cv.destroyAllWindows()"
   ]
  },
  {
   "cell_type": "markdown",
   "id": "a2525ed9",
   "metadata": {},
   "source": [
    "## Resize image"
   ]
  },
  {
   "cell_type": "markdown",
   "id": "5813901c",
   "metadata": {},
   "source": [
    "Tasks:\n",
    "- Preserve Aspect Ratio (height to width ratio of image is preserved)\n",
    "    - Downscale (Decrease the size of the image)\n",
    "    - Upscale (Increase the size of the image)\n",
    "- Do not preserve Aspect Ratio\n",
    "    - Resize only the width (Increase or decrease the width of the image keeping height unchanged)\n",
    "    - Resize only the height (Increase or decrease the height of the image keeping width unchanged)\n",
    "    - Resize to specific width and height"
   ]
  },
  {
   "cell_type": "markdown",
   "id": "507f929e",
   "metadata": {},
   "source": [
    "### Resize Function(resize(src, dsize[, dst[, fx[, fy[, interpolation]]]]))\n",
    "- src: It is the required input image, it could be a string with the path of the input image \n",
    "- dsize: It is the desired size of the output image, it can be a new height and width.\n",
    "- fx: Scale factor along the horizontal axis.\n",
    "- fy: Scale factor along the vertical axis.\n",
    "- interpolation: It gives us the option of different methods of resizing the image."
   ]
  },
  {
   "cell_type": "markdown",
   "id": "fb9b8220",
   "metadata": {},
   "source": [
    "### Down Scale (<=100)"
   ]
  },
  {
   "cell_type": "code",
   "execution_count": 81,
   "id": "d71615da",
   "metadata": {},
   "outputs": [],
   "source": [
    "# to down scale less than or equal 100\n",
    "Scale_percent = 60\n",
    "# hieght = percent * height /100 and width = percent * width / 100\n",
    "h,w , _ = img.shape\n",
    "h = int(Scale_percent *h / 100)\n",
    "w = int(Scale_percent * w / 100 )\n",
    "dim = (h,w)\n",
    "\n",
    "down_img = cv.resize(img, dim , interpolation = cv.INTER_AREA)"
   ]
  },
  {
   "cell_type": "code",
   "execution_count": 82,
   "id": "21024a25",
   "metadata": {},
   "outputs": [
    {
     "name": "stdout",
     "output_type": "stream",
     "text": [
      "(199, 180, 3)\n",
      "(300, 332, 3)\n"
     ]
    }
   ],
   "source": [
    "print(down_img.shape)\n",
    "print(img.shape)"
   ]
  },
  {
   "cell_type": "code",
   "execution_count": 83,
   "id": "71abd63c",
   "metadata": {},
   "outputs": [],
   "source": [
    "cv.imshow(\"Orignal\", img)\n",
    "cv.waitKey(0)\n",
    "cv.imshow(\"Down Scaled image \", down_img)\n",
    "cv.waitKey(0)\n",
    "cv.destroyAllWindows()"
   ]
  },
  {
   "cell_type": "markdown",
   "id": "6147a28b",
   "metadata": {},
   "source": [
    "### Up Scale (< 100)"
   ]
  },
  {
   "cell_type": "code",
   "execution_count": 84,
   "id": "48f7bca9",
   "metadata": {},
   "outputs": [],
   "source": [
    "# to UP scale less than or equal 100\n",
    "Scale_percent = 200\n",
    "\n",
    "# hieght = percent * height /100 and width = percent * width / 100\n",
    "\n",
    "h,w , _ = img.shape\n",
    "h = int(Scale_percent *h / 100)\n",
    "w = int(Scale_percent * w / 100 )\n",
    "dim = (h,w)\n",
    "\n",
    "UP_img = cv.resize(img, dim , interpolation = cv.INTER_AREA)"
   ]
  },
  {
   "cell_type": "code",
   "execution_count": 85,
   "id": "1a853fd7",
   "metadata": {},
   "outputs": [
    {
     "name": "stdout",
     "output_type": "stream",
     "text": [
      "(664, 600, 3)\n",
      "(300, 332, 3)\n"
     ]
    }
   ],
   "source": [
    "print(UP_img.shape)\n",
    "print(img.shape)"
   ]
  },
  {
   "cell_type": "code",
   "execution_count": 86,
   "id": "dd978847",
   "metadata": {},
   "outputs": [],
   "source": [
    "cv.imshow(\"Orignal\", img)\n",
    "cv.waitKey(0)\n",
    "cv.imshow(\"UP Scaled image \", UP_img)\n",
    "cv.waitKey(0)\n",
    "cv.destroyAllWindows()"
   ]
  },
  {
   "cell_type": "markdown",
   "id": "648fb6dd",
   "metadata": {},
   "source": [
    "### Resize only Width"
   ]
  },
  {
   "cell_type": "code",
   "execution_count": 87,
   "id": "5ceb757c",
   "metadata": {},
   "outputs": [],
   "source": [
    "h,w , _ = img.shape\n",
    "h = h\n",
    "w = 100\n",
    "dim = (h,w)\n",
    "\n",
    "Width_img = cv.resize(img, dim , interpolation = cv.INTER_AREA)"
   ]
  },
  {
   "cell_type": "code",
   "execution_count": 88,
   "id": "e0064375",
   "metadata": {},
   "outputs": [],
   "source": [
    "cv.imshow(\"Orignal\", img)\n",
    "cv.waitKey(0)\n",
    "cv.imshow(\"Width image \", Width_img)\n",
    "cv.waitKey(0)\n",
    "cv.destroyAllWindows()"
   ]
  },
  {
   "cell_type": "markdown",
   "id": "e30fb6f3",
   "metadata": {},
   "source": [
    "### Resize only Height"
   ]
  },
  {
   "cell_type": "code",
   "execution_count": 89,
   "id": "a2406ea1",
   "metadata": {},
   "outputs": [],
   "source": [
    "h,w , _ = img.shape\n",
    "h = 200\n",
    "w = w\n",
    "dim = (h,w)\n",
    "\n",
    "Height_img = cv.resize(img, dim , interpolation = cv.INTER_AREA)"
   ]
  },
  {
   "cell_type": "code",
   "execution_count": 90,
   "id": "f2f21789",
   "metadata": {},
   "outputs": [],
   "source": [
    "cv.imshow(\"Orignal\", img)\n",
    "cv.waitKey(0)\n",
    "cv.imshow(\"Height image \", Height_img)\n",
    "cv.waitKey(0)\n",
    "cv.destroyAllWindows()"
   ]
  },
  {
   "cell_type": "markdown",
   "id": "2231dfff",
   "metadata": {},
   "source": [
    "### Resize with Height and Width"
   ]
  },
  {
   "cell_type": "code",
   "execution_count": 91,
   "id": "9db1b3c3",
   "metadata": {},
   "outputs": [],
   "source": [
    "h,w , _ = img.shape\n",
    "h = 200\n",
    "w = 200\n",
    "dim = (h,w)\n",
    "\n",
    "HW_img = cv.resize(img, dim , interpolation = cv.INTER_AREA)"
   ]
  },
  {
   "cell_type": "code",
   "execution_count": 92,
   "id": "48a64b91",
   "metadata": {},
   "outputs": [],
   "source": [
    "cv.imshow(\"Orignal\", img)\n",
    "cv.waitKey(0)\n",
    "cv.imshow(\"Height and Width image \", HW_img)\n",
    "cv.waitKey(0)\n",
    "cv.destroyAllWindows()"
   ]
  },
  {
   "cell_type": "markdown",
   "id": "9666e6e6",
   "metadata": {},
   "source": [
    "### Scale with fx and fy"
   ]
  },
  {
   "cell_type": "code",
   "execution_count": 93,
   "id": "5958cab9",
   "metadata": {},
   "outputs": [],
   "source": [
    "# Scaling Up the image 1.2 times by specifying both scaling factors\n",
    "scale_up_x = 1.2\n",
    "scale_up_y = 1.2\n",
    "# Scaling Down the image 0.6 times specifying a single scale factor.\n",
    "scale_down = 0.6\n",
    " \n",
    "scaled_f_down = cv.resize(img, None, fx= scale_down, fy= scale_down, interpolation= cv.INTER_LINEAR)\n",
    "scaled_f_up = cv.resize(img, None, fx= scale_up_x, fy= scale_up_y, interpolation= cv.INTER_LINEAR)"
   ]
  },
  {
   "cell_type": "code",
   "execution_count": 94,
   "id": "a22f4a1a",
   "metadata": {},
   "outputs": [],
   "source": [
    "cv.imshow(\"Orignal\", img)\n",
    "cv.waitKey(0)\n",
    "cv.imshow(\"scale up \", scaled_f_up)\n",
    "cv.waitKey(0)\n",
    "cv.imshow(\"scale down \", scaled_f_down)\n",
    "cv.waitKey(0)\n",
    "cv.destroyAllWindows()"
   ]
  },
  {
   "cell_type": "markdown",
   "id": "a87a5c60",
   "metadata": {},
   "source": [
    "## Exercises"
   ]
  },
  {
   "cell_type": "markdown",
   "id": "28ebbd07",
   "metadata": {},
   "source": [
    "- Resizing With Different Interpolation Methods"
   ]
  },
  {
   "cell_type": "markdown",
   "id": "277e0011",
   "metadata": {},
   "source": [
    "# Cropping"
   ]
  },
  {
   "cell_type": "code",
   "execution_count": 95,
   "id": "cf834f77",
   "metadata": {},
   "outputs": [],
   "source": [
    "Cropped_img = img [80:200 , 100:200]\n",
    "cv.imshow(\"Orignal\", img)\n",
    "cv.waitKey(0)\n",
    "cv.imshow(\"Cropped img \", Cropped_img)\n",
    "cv.waitKey(0)\n",
    "cv.destroyAllWindows()"
   ]
  },
  {
   "cell_type": "markdown",
   "id": "e60b4053",
   "metadata": {},
   "source": [
    "## Exercises\n",
    "1- Pathing image to blocks"
   ]
  },
  {
   "cell_type": "markdown",
   "id": "2bb133bb",
   "metadata": {},
   "source": [
    "<img src=\"https://learnopencv.com/wp-content/uploads/2021/05/image_and_cropped.jpg\" alt=\"drawing\" style=\"width:400px;\"/>"
   ]
  },
  {
   "cell_type": "markdown",
   "id": "6739f745",
   "metadata": {},
   "source": [
    "Need of Cropping in Nerual Network\n",
    "<img src=\"https://production-media.paperswithcode.com/methods/Screen_Shot_2021-01-26_at_9.43.31_PM_uI4jjMq.png\" alt=\"drawing\" style=\"width:400px;\"/>"
   ]
  },
  {
   "cell_type": "markdown",
   "id": "b8606c95",
   "metadata": {},
   "source": [
    "## Rotating"
   ]
  },
  {
   "cell_type": "markdown",
   "id": "5de8b0d7",
   "metadata": {},
   "source": [
    "You can rotate an image by a certain angle $\\theta$ by defining a transformation matrix M. This matrix is usually of the form:\n",
    "\n",
    "<img src=\"https://learnopencv.com/wp-content/ql-cache/quicklatex.com-f2b834829486dbca21bcae743d7081b4_l3.png\" alt=\"drawing\" style=\"width:200px;\"/>\n",
    "\n",
    "OpenCV provides the ability to define the center of rotation for the image and a scale factor to resize the image as well. In that case, the transformation matrix gets modified.\n",
    "\n",
    "\n",
    "<img src=\"https://learnopencv.com/wp-content/ql-cache/quicklatex.com-22100ba131a515b1ad4b4ba9ad15d7a2_l3.png\" alt=\"drawing\" style=\"width:200px;\"/>\n",
    "\n",
    "In the above matrix:\n",
    "\n",
    "<img src=\"https://learnopencv.com/wp-content/ql-cache/quicklatex.com-7163d447c513d8d820d05ac594d59cff_l3.png\" alt=\"drawing\" style=\"width:200px;\"/>\n",
    "\n",
    "where ${c_x}$ & ${c_y}$ are the coordinates along which the image is rotated.\n",
    "\n",
    "OpenCV provides **the getRotationMatrix2D()** function to create the above transformation matrix."
   ]
  },
  {
   "cell_type": "markdown",
   "id": "362a9de4",
   "metadata": {},
   "source": [
    "## getRotationMatrix2D(center, angle, scale)\n"
   ]
  },
  {
   "cell_type": "markdown",
   "id": "02c1fabb",
   "metadata": {},
   "source": [
    "The getRotationMatrix2D() function takes the following arguments:\n",
    "\n",
    "- center: the center of rotation for the input image\n",
    "- angle: the angle of rotation in degrees\n",
    "- scale: an isotropic scale factor which scales the image up or down according to the value provided\n",
    "\n",
    "If the angle is positive, the image gets rotated in the counter-clockwise direction. If you want to rotate the image clockwise by the same amount, then the angle needs to be negative."
   ]
  },
  {
   "cell_type": "code",
   "execution_count": 96,
   "id": "e5a26d93",
   "metadata": {},
   "outputs": [],
   "source": [
    "height, width , _= img.shape\n",
    "center = (width/2, height/2)"
   ]
  },
  {
   "cell_type": "code",
   "execution_count": 97,
   "id": "b5778244",
   "metadata": {},
   "outputs": [],
   "source": [
    "rotate_matrix = cv.getRotationMatrix2D(center=center, angle=45, scale=1)"
   ]
  },
  {
   "cell_type": "markdown",
   "id": "666516b1",
   "metadata": {},
   "source": [
    "## warpAffine(src, M, dsize[, dst[, flags[, borderMode[, borderValue]]]])"
   ]
  },
  {
   "cell_type": "markdown",
   "id": "b9edeab0",
   "metadata": {},
   "source": [
    "The following are the arguments of the function:\n",
    "\n",
    "- src: the source mage\n",
    "- M: the transformation matrix\n",
    "- dsize: size of the output image\n",
    "- dst: the output image\n",
    "- flags: combination of interpolation methods such as INTER_LINEAR or INTER_NEAREST\n",
    "- borderMode: the pixel extrapolation method\n",
    "- borderValue: the value to be used in case of a constant border, has a default value of 0"
   ]
  },
  {
   "cell_type": "code",
   "execution_count": 98,
   "id": "59def322",
   "metadata": {},
   "outputs": [
    {
     "name": "stdout",
     "output_type": "stream",
     "text": [
      "(300, 332, 3)\n",
      "(300, 332, 3)\n"
     ]
    }
   ],
   "source": [
    "# Rotate the image using cv2.warpAffine\n",
    "rotated_image = cv.warpAffine(src=img, M=rotate_matrix, dsize=(width, height))\n",
    "print(img.shape)\n",
    "print(rotated_image.shape)"
   ]
  },
  {
   "cell_type": "code",
   "execution_count": 99,
   "id": "576e4ee4",
   "metadata": {},
   "outputs": [],
   "source": [
    "cv.imshow(\"Orignal\", img)\n",
    "cv.waitKey(0)\n",
    "cv.imshow(\"Rotated image 45 \", rotated_image)\n",
    "cv.waitKey(0)\n",
    "cv.destroyAllWindows()"
   ]
  },
  {
   "cell_type": "code",
   "execution_count": 100,
   "id": "e52f43ac",
   "metadata": {},
   "outputs": [],
   "source": [
    "rotate_matrix_90 = cv.getRotationMatrix2D(center=center, angle = 90, scale=1)\n",
    "rotate_matrix_180 = cv.getRotationMatrix2D(center=center, angle = 180, scale=1)"
   ]
  },
  {
   "cell_type": "code",
   "execution_count": 101,
   "id": "c9a03f1b",
   "metadata": {},
   "outputs": [],
   "source": [
    "rotated_image_90 = cv.warpAffine(src=img, M=rotate_matrix_90, dsize=(width, height))\n",
    "rotated_image_180 = cv.warpAffine(src=img, M=rotate_matrix_180, dsize=(width, height))"
   ]
  },
  {
   "cell_type": "code",
   "execution_count": 102,
   "id": "f24fc245",
   "metadata": {},
   "outputs": [],
   "source": [
    "cv.imshow(\"Orignal\", img)\n",
    "cv.waitKey(0)\n",
    "cv.imshow(\"Rotated image 45 \", rotated_image)\n",
    "cv.waitKey(0)\n",
    "cv.imshow(\"Rotated image 90 \", rotated_image_90)\n",
    "cv.waitKey(0)\n",
    "cv.imshow(\"Rotated image 180 \", rotated_image_180)\n",
    "cv.waitKey(0)\n",
    "cv.destroyAllWindows()"
   ]
  },
  {
   "cell_type": "markdown",
   "id": "5f5037b5",
   "metadata": {},
   "source": [
    "Read :\n",
    "ٌٌُ\n",
    "1. https://pyimagesearch.com/2021/02/03/opencv-image-translation/\n",
    "2. https://pyimagesearch.com/2021/01/20/opencv-rotate-image/"
   ]
  },
  {
   "cell_type": "code",
   "execution_count": null,
   "id": "d1ec9168",
   "metadata": {},
   "outputs": [],
   "source": []
  }
 ],
 "metadata": {
  "kernelspec": {
   "display_name": "Python [conda env:root] *",
   "language": "python",
   "name": "conda-root-py"
  },
  "language_info": {
   "codemirror_mode": {
    "name": "ipython",
    "version": 3
   },
   "file_extension": ".py",
   "mimetype": "text/x-python",
   "name": "python",
   "nbconvert_exporter": "python",
   "pygments_lexer": "ipython3",
   "version": "3.10.12"
  }
 },
 "nbformat": 4,
 "nbformat_minor": 5
}
