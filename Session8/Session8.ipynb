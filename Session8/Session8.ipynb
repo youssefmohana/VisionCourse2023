{
  "nbformat": 4,
  "nbformat_minor": 0,
  "metadata": {
    "colab": {
      "provenance": [],
      "gpuType": "T4"
    },
    "kernelspec": {
      "name": "python3",
      "display_name": "Python 3"
    },
    "language_info": {
      "name": "python"
    },
    "accelerator": "GPU"
  },
  "cells": [
    {
      "cell_type": "markdown",
      "source": [
        "# Session Content :\n",
        "1. meaning of Pretrained model and Fine Tuning Methodelgy(Slides 5)\n",
        "2. Pretrained Model in Keras (Notebook)\n"
      ],
      "metadata": {
        "id": "Dr9Wfd-ZO4qS"
      }
    },
    {
      "cell_type": "markdown",
      "source": [
        "# Pre-Trained Models\n",
        "Though it is often necessary to have a large, well annotated dataset to solve a deep learning challenge, there are many freely available pre-trained models that we can use right out of the box. As you decide to take on your own deep learning project, it is a great idea to start by looking for existing models online that can help you achieve your goal. A great place to explore available models is [NGC](https://catalog.ngc.nvidia.com/models). There are also many models hosted on GitHub that you can find through searching on Google."
      ],
      "metadata": {
        "id": "Key9APwgOQZB"
      }
    },
    {
      "cell_type": "markdown",
      "source": [
        "![Pre-Trained Model](https://learnopencv.com/wp-content/uploads/2023/03/tensorflow-keras-fine-tune-architecture-feature-image-2-1536x1232.png)"
      ],
      "metadata": {
        "id": "4EY6dTsxQBQK"
      }
    },
    {
      "cell_type": "markdown",
      "source": [
        "## An Automated Doggy Door\n",
        "\n",
        "In this session, we will be creating a doggy door that only lets dogs (and not other animals) in and out. We can keep our cats inside, and other animals outside where they belong. Using the techniques covered so far, we would need a very large dataset with pictures of many dogs, as well as other animals. Luckily, there is a readily available model that has been trained on a massive dataset, including lots of animals."
      ],
      "metadata": {
        "id": "aEmJWRw7QVjX"
      }
    },
    {
      "cell_type": "markdown",
      "source": [
        "## Loading the Model\n",
        "\n",
        "We will start by downloading the model. Trained ImageNet models are available to download directly within the Keras library. You can see the available models and their details [here](https://keras.io/api/applications/#available-models). Any of these models would work for our exercise. We will pick a commonly used one called [VGG16](https://keras.io/api/applications/vgg/#vgg16-function):\n",
        "![](https://miro.medium.com/v2/resize:fit:1400/0*6VP81rFoLWp10FcG)"
      ],
      "metadata": {
        "id": "w8UPI8xrQsGS"
      }
    },
    {
      "cell_type": "code",
      "source": [
        "import numpy as np\n",
        "from tensorflow.keras.datasets import cifar10\n",
        "from tensorflow.keras.applications import VGG16\n",
        "from tensorflow.keras.models import Sequential\n",
        "from tensorflow.keras.layers import Dense, Flatten,Dropout\n",
        "from tensorflow.keras.utils import to_categorical\n",
        "from keras.optimizers import SGD,Adam\n",
        "import matplotlib.pyplot as plt\n",
        "import random"
      ],
      "metadata": {
        "id": "6aOlnhEjOc76"
      },
      "execution_count": 28,
      "outputs": []
    },
    {
      "cell_type": "code",
      "source": [
        "SEED_VALUE = 42\n",
        "\n",
        "# Fix seed to make training deterministic.\n",
        "random.seed(SEED_VALUE)\n",
        "np.random.seed(SEED_VALUE)\n",
        "tf.random.set_seed(SEED_VALUE)"
      ],
      "metadata": {
        "id": "W5Vaz9vTLfQS"
      },
      "execution_count": null,
      "outputs": []
    },
    {
      "cell_type": "code",
      "source": [
        "# load the VGG16 network *pre-trained* on the ImageNet dataset\n",
        "model = VGG16(weights=\"imagenet\")"
      ],
      "metadata": {
        "id": "Lp6-BZ47RRLf"
      },
      "execution_count": 26,
      "outputs": []
    },
    {
      "cell_type": "markdown",
      "source": [
        "Now that it is loaded, let us take a look at the model. It looks a lot like our convolutional model from the session 7 . Pay attention to the first layer (the input layer) and the last layer (the output layer). As with our earlier Sessions, we need to make sure our images match the input dimensions that the model expects. It is also valuable to understand what the model will return from the final output layer."
      ],
      "metadata": {
        "id": "XkprSVM9R_ym"
      }
    },
    {
      "cell_type": "code",
      "source": [
        "model.summary()"
      ],
      "metadata": {
        "colab": {
          "base_uri": "https://localhost:8080/"
        },
        "id": "BEtsR0vmRxmh",
        "outputId": "5dd26776-98bd-493e-a279-d60412cffeab"
      },
      "execution_count": 27,
      "outputs": [
        {
          "output_type": "stream",
          "name": "stdout",
          "text": [
            "Model: \"vgg16\"\n",
            "_________________________________________________________________\n",
            " Layer (type)                Output Shape              Param #   \n",
            "=================================================================\n",
            " input_5 (InputLayer)        [(None, 224, 224, 3)]     0         \n",
            "                                                                 \n",
            " block1_conv1 (Conv2D)       (None, 224, 224, 64)      1792      \n",
            "                                                                 \n",
            " block1_conv2 (Conv2D)       (None, 224, 224, 64)      36928     \n",
            "                                                                 \n",
            " block1_pool (MaxPooling2D)  (None, 112, 112, 64)      0         \n",
            "                                                                 \n",
            " block2_conv1 (Conv2D)       (None, 112, 112, 128)     73856     \n",
            "                                                                 \n",
            " block2_conv2 (Conv2D)       (None, 112, 112, 128)     147584    \n",
            "                                                                 \n",
            " block2_pool (MaxPooling2D)  (None, 56, 56, 128)       0         \n",
            "                                                                 \n",
            " block3_conv1 (Conv2D)       (None, 56, 56, 256)       295168    \n",
            "                                                                 \n",
            " block3_conv2 (Conv2D)       (None, 56, 56, 256)       590080    \n",
            "                                                                 \n",
            " block3_conv3 (Conv2D)       (None, 56, 56, 256)       590080    \n",
            "                                                                 \n",
            " block3_pool (MaxPooling2D)  (None, 28, 28, 256)       0         \n",
            "                                                                 \n",
            " block4_conv1 (Conv2D)       (None, 28, 28, 512)       1180160   \n",
            "                                                                 \n",
            " block4_conv2 (Conv2D)       (None, 28, 28, 512)       2359808   \n",
            "                                                                 \n",
            " block4_conv3 (Conv2D)       (None, 28, 28, 512)       2359808   \n",
            "                                                                 \n",
            " block4_pool (MaxPooling2D)  (None, 14, 14, 512)       0         \n",
            "                                                                 \n",
            " block5_conv1 (Conv2D)       (None, 14, 14, 512)       2359808   \n",
            "                                                                 \n",
            " block5_conv2 (Conv2D)       (None, 14, 14, 512)       2359808   \n",
            "                                                                 \n",
            " block5_conv3 (Conv2D)       (None, 14, 14, 512)       2359808   \n",
            "                                                                 \n",
            " block5_pool (MaxPooling2D)  (None, 7, 7, 512)         0         \n",
            "                                                                 \n",
            " flatten (Flatten)           (None, 25088)             0         \n",
            "                                                                 \n",
            " fc1 (Dense)                 (None, 4096)              102764544 \n",
            "                                                                 \n",
            " fc2 (Dense)                 (None, 4096)              16781312  \n",
            "                                                                 \n",
            " predictions (Dense)         (None, 1000)              4097000   \n",
            "                                                                 \n",
            "=================================================================\n",
            "Total params: 138357544 (527.79 MB)\n",
            "Trainable params: 138357544 (527.79 MB)\n",
            "Non-trainable params: 0 (0.00 Byte)\n",
            "_________________________________________________________________\n"
          ]
        }
      ]
    },
    {
      "cell_type": "markdown",
      "source": [
        "## input dimensions\n",
        "We can see that the model is expecting images in the shape of (224, 224, 3) corresponding to 224 pixels high, 224 pixels wide, and 3 color channels. As we learned in our last Session, Keras models can accept more than one image at a time for prediction. If we pass in just one image, the shape will be (1, 224, 224, 3). We will need to make sure that when passing images into our model for prediction, they match these dimensions."
      ],
      "metadata": {
        "id": "PBLcHKawSbDl"
      }
    },
    {
      "cell_type": "markdown",
      "source": [
        "## Output dimensions\n",
        "We can also see that the model will return a prediction of shape 1000. Remember that in our Session 7 the output shape of our model was 10, corresponding to the 10 different digits. In our second exercise we had a shape of 24, corresponding to the 24 letters of the sign language alphabet that could be captured in a still image. Here, we have 1000 possible categories that the image will be placed in. Though the full ImageNet dataset has over 20,000 categories, the competition and resulting pre-trained models just use a subset of 1000 of these categories. We can take a look at all of these possible categories [here](https://gist.github.com/yrevar/942d3a0ac09ec9e5eb3a).\n",
        "\n",
        "Many of the categories are animals, including many types of dogs and cats. The dogs are categories 151 through 268. The cats are categories 281 through 285. We will be able to use these categories to tell our doggy door what type of animal is at our door, and whether we should let them in or not."
      ],
      "metadata": {
        "id": "42dMHxUKSq22"
      }
    },
    {
      "cell_type": "markdown",
      "source": [
        "## Load Dataset\n"
      ],
      "metadata": {
        "id": "wxU0P8p_Vsrg"
      }
    },
    {
      "cell_type": "code",
      "source": [
        "# Load CIFAR-10 dataset\n",
        "(train_images, train_labels), (test_images, test_labels) = cifar10.load_data()"
      ],
      "metadata": {
        "id": "LW6a__AcSPu6"
      },
      "execution_count": 21,
      "outputs": []
    },
    {
      "cell_type": "code",
      "source": [
        "# Normalize pixel values between 0 and 1\n",
        "train_images = train_images.astype('float32') / 255.0\n",
        "test_images = test_images.astype('float32') / 255.0\n"
      ],
      "metadata": {
        "id": "SzeVG7GUVylj"
      },
      "execution_count": 22,
      "outputs": []
    },
    {
      "cell_type": "code",
      "source": [
        "# One-hot encode the labels\n",
        "num_classes = 10\n",
        "train_labels = to_categorical(train_labels, num_classes)\n",
        "test_labels = to_categorical(test_labels, num_classes)\n"
      ],
      "metadata": {
        "id": "Repfh-KEV1Zq"
      },
      "execution_count": 23,
      "outputs": []
    },
    {
      "cell_type": "markdown",
      "source": [
        "## Base Model"
      ],
      "metadata": {
        "id": "zF-Sz_DJV8if"
      }
    },
    {
      "cell_type": "code",
      "source": [
        "# Load pre-trained VGG16 model without top layers\n",
        "base_model = VGG16(weights='imagenet', include_top=False, input_shape=(32, 32, 3),classes=train_labels.shape[1])"
      ],
      "metadata": {
        "id": "QZenGNQTV3NS"
      },
      "execution_count": 25,
      "outputs": []
    },
    {
      "cell_type": "code",
      "source": [
        "# Create a new model on top of the pre-trained model\n",
        "model1 = Sequential()\n",
        "model1.add(base_model)\n",
        "model1.add(Flatten())\n",
        "#Add the Dense layers along with activation and batch normalization\n",
        "model1.add(Dense(1024,activation=('relu'),input_dim=512))\n",
        "model1.add(Dense(512,activation=('relu')))\n",
        "model1.add(Dense(256,activation=('relu')))\n",
        "model1.add(Dropout(.3))#Adding a dropout layer that will randomly drop 30% of the weights\n",
        "model1.add(Dense(128,activation=('relu')))\n",
        "model1.add(Dropout(.2))\n",
        "model1.add(Dense(10,activation=('softmax'))) #This is the classification layer"
      ],
      "metadata": {
        "id": "4LwKZVdYV-nB"
      },
      "execution_count": 30,
      "outputs": []
    },
    {
      "cell_type": "code",
      "source": [
        "# Freeze the pre-trained layers in the base model\n",
        "for layer in base_model.layers:\n",
        "    layer.trainable = False\n"
      ],
      "metadata": {
        "id": "gv-1UlfiWC9y"
      },
      "execution_count": 32,
      "outputs": []
    },
    {
      "cell_type": "code",
      "source": [
        "learn_rate=.001\n",
        "\n",
        "sgd=SGD(lr=learn_rate,momentum=.9,nesterov=False)\n"
      ],
      "metadata": {
        "colab": {
          "base_uri": "https://localhost:8080/"
        },
        "id": "2jDb7aiAG8mt",
        "outputId": "5d57d3ef-a4bb-4255-9b51-4eb62d2eef8d"
      },
      "execution_count": 33,
      "outputs": [
        {
          "output_type": "stream",
          "name": "stderr",
          "text": [
            "WARNING:absl:`lr` is deprecated in Keras optimizer, please use `learning_rate` or use the legacy optimizer, e.g.,tf.keras.optimizers.legacy.SGD.\n"
          ]
        }
      ]
    },
    {
      "cell_type": "code",
      "source": [
        "# Compile the model\n",
        "\n",
        "model1.compile(loss='categorical_crossentropy',\n",
        "              optimizer=sgd,\n",
        "              metrics=['accuracy'])"
      ],
      "metadata": {
        "id": "1xLV3TZiWHRd"
      },
      "execution_count": 34,
      "outputs": []
    },
    {
      "cell_type": "code",
      "source": [
        "# Train the model\n",
        "history = model1.fit(train_images, train_labels,\n",
        "                    epochs=50,\n",
        "                    batch_size=100,\n",
        "                    validation_data=(test_images, test_labels))"
      ],
      "metadata": {
        "colab": {
          "base_uri": "https://localhost:8080/"
        },
        "id": "EPX3DHEtWI4l",
        "outputId": "bc9bf612-f17f-43d9-e4b5-8a051a481651"
      },
      "execution_count": 35,
      "outputs": [
        {
          "output_type": "stream",
          "name": "stdout",
          "text": [
            "Epoch 1/50\n",
            "500/500 [==============================] - 14s 22ms/step - loss: 1.6548 - accuracy: 0.4059 - val_loss: 1.4091 - val_accuracy: 0.4935\n",
            "Epoch 2/50\n",
            "500/500 [==============================] - 10s 21ms/step - loss: 1.4022 - accuracy: 0.5082 - val_loss: 1.3121 - val_accuracy: 0.5323\n",
            "Epoch 3/50\n",
            "500/500 [==============================] - 9s 18ms/step - loss: 1.3238 - accuracy: 0.5361 - val_loss: 1.2657 - val_accuracy: 0.5507\n",
            "Epoch 4/50\n",
            "500/500 [==============================] - 9s 18ms/step - loss: 1.2784 - accuracy: 0.5536 - val_loss: 1.2385 - val_accuracy: 0.5689\n",
            "Epoch 5/50\n",
            "500/500 [==============================] - 9s 18ms/step - loss: 1.2413 - accuracy: 0.5686 - val_loss: 1.2455 - val_accuracy: 0.5599\n",
            "Epoch 6/50\n",
            "500/500 [==============================] - 9s 18ms/step - loss: 1.2051 - accuracy: 0.5829 - val_loss: 1.2110 - val_accuracy: 0.5771\n",
            "Epoch 7/50\n",
            "500/500 [==============================] - 10s 20ms/step - loss: 1.1781 - accuracy: 0.5925 - val_loss: 1.2018 - val_accuracy: 0.5753\n",
            "Epoch 8/50\n",
            "500/500 [==============================] - 9s 18ms/step - loss: 1.1648 - accuracy: 0.5954 - val_loss: 1.2115 - val_accuracy: 0.5761\n",
            "Epoch 9/50\n",
            "500/500 [==============================] - 10s 20ms/step - loss: 1.1388 - accuracy: 0.6025 - val_loss: 1.1964 - val_accuracy: 0.5841\n",
            "Epoch 10/50\n",
            "500/500 [==============================] - 10s 20ms/step - loss: 1.1211 - accuracy: 0.6095 - val_loss: 1.1725 - val_accuracy: 0.5896\n",
            "Epoch 11/50\n",
            "500/500 [==============================] - 9s 18ms/step - loss: 1.1006 - accuracy: 0.6182 - val_loss: 1.1544 - val_accuracy: 0.5976\n",
            "Epoch 12/50\n",
            "500/500 [==============================] - 10s 21ms/step - loss: 1.0854 - accuracy: 0.6245 - val_loss: 1.1314 - val_accuracy: 0.6023\n",
            "Epoch 13/50\n",
            "500/500 [==============================] - 10s 20ms/step - loss: 1.0700 - accuracy: 0.6268 - val_loss: 1.1508 - val_accuracy: 0.5991\n",
            "Epoch 14/50\n",
            "500/500 [==============================] - 9s 18ms/step - loss: 1.0530 - accuracy: 0.6326 - val_loss: 1.1237 - val_accuracy: 0.6109\n",
            "Epoch 15/50\n",
            "500/500 [==============================] - 9s 18ms/step - loss: 1.0423 - accuracy: 0.6367 - val_loss: 1.1972 - val_accuracy: 0.5885\n",
            "Epoch 16/50\n",
            "500/500 [==============================] - 9s 18ms/step - loss: 1.0244 - accuracy: 0.6412 - val_loss: 1.1397 - val_accuracy: 0.6063\n",
            "Epoch 17/50\n",
            "500/500 [==============================] - 9s 18ms/step - loss: 1.0104 - accuracy: 0.6483 - val_loss: 1.1236 - val_accuracy: 0.6071\n",
            "Epoch 18/50\n",
            "500/500 [==============================] - 9s 18ms/step - loss: 0.9991 - accuracy: 0.6516 - val_loss: 1.0990 - val_accuracy: 0.6173\n",
            "Epoch 19/50\n",
            "500/500 [==============================] - 9s 18ms/step - loss: 0.9808 - accuracy: 0.6552 - val_loss: 1.1180 - val_accuracy: 0.6112\n",
            "Epoch 20/50\n",
            "500/500 [==============================] - 9s 18ms/step - loss: 0.9626 - accuracy: 0.6639 - val_loss: 1.1109 - val_accuracy: 0.6183\n",
            "Epoch 21/50\n",
            "500/500 [==============================] - 9s 18ms/step - loss: 0.9524 - accuracy: 0.6660 - val_loss: 1.1048 - val_accuracy: 0.6137\n",
            "Epoch 22/50\n",
            "500/500 [==============================] - 10s 20ms/step - loss: 0.9388 - accuracy: 0.6697 - val_loss: 1.1442 - val_accuracy: 0.6038\n",
            "Epoch 23/50\n",
            "500/500 [==============================] - 9s 18ms/step - loss: 0.9249 - accuracy: 0.6716 - val_loss: 1.1131 - val_accuracy: 0.6129\n",
            "Epoch 24/50\n",
            "500/500 [==============================] - 9s 18ms/step - loss: 0.9086 - accuracy: 0.6812 - val_loss: 1.1531 - val_accuracy: 0.6062\n",
            "Epoch 25/50\n",
            "500/500 [==============================] - 10s 21ms/step - loss: 0.9012 - accuracy: 0.6822 - val_loss: 1.1343 - val_accuracy: 0.6167\n",
            "Epoch 26/50\n",
            "500/500 [==============================] - 10s 20ms/step - loss: 0.8794 - accuracy: 0.6886 - val_loss: 1.1534 - val_accuracy: 0.6132\n",
            "Epoch 27/50\n",
            "500/500 [==============================] - 9s 18ms/step - loss: 0.8689 - accuracy: 0.6932 - val_loss: 1.1297 - val_accuracy: 0.6211\n",
            "Epoch 28/50\n",
            "500/500 [==============================] - 10s 20ms/step - loss: 0.8484 - accuracy: 0.7003 - val_loss: 1.1384 - val_accuracy: 0.6138\n",
            "Epoch 29/50\n",
            "500/500 [==============================] - 9s 18ms/step - loss: 0.8423 - accuracy: 0.6991 - val_loss: 1.1276 - val_accuracy: 0.6184\n",
            "Epoch 30/50\n",
            "500/500 [==============================] - 9s 18ms/step - loss: 0.8230 - accuracy: 0.7087 - val_loss: 1.1747 - val_accuracy: 0.6140\n",
            "Epoch 31/50\n",
            "500/500 [==============================] - 10s 20ms/step - loss: 0.8123 - accuracy: 0.7109 - val_loss: 1.1466 - val_accuracy: 0.6208\n",
            "Epoch 32/50\n",
            "500/500 [==============================] - 10s 20ms/step - loss: 0.7977 - accuracy: 0.7156 - val_loss: 1.1514 - val_accuracy: 0.6245\n",
            "Epoch 33/50\n",
            "500/500 [==============================] - 10s 20ms/step - loss: 0.7841 - accuracy: 0.7197 - val_loss: 1.1805 - val_accuracy: 0.6218\n",
            "Epoch 34/50\n",
            "500/500 [==============================] - 9s 18ms/step - loss: 0.7693 - accuracy: 0.7270 - val_loss: 1.2038 - val_accuracy: 0.6118\n",
            "Epoch 35/50\n",
            "500/500 [==============================] - 9s 18ms/step - loss: 0.7541 - accuracy: 0.7305 - val_loss: 1.1612 - val_accuracy: 0.6221\n",
            "Epoch 36/50\n",
            "500/500 [==============================] - 9s 18ms/step - loss: 0.7370 - accuracy: 0.7360 - val_loss: 1.2171 - val_accuracy: 0.6122\n",
            "Epoch 37/50\n",
            "500/500 [==============================] - 11s 21ms/step - loss: 0.7143 - accuracy: 0.7451 - val_loss: 1.1996 - val_accuracy: 0.6206\n",
            "Epoch 38/50\n",
            "500/500 [==============================] - 10s 20ms/step - loss: 0.7149 - accuracy: 0.7449 - val_loss: 1.2154 - val_accuracy: 0.6174\n",
            "Epoch 39/50\n",
            "500/500 [==============================] - 9s 18ms/step - loss: 0.6873 - accuracy: 0.7536 - val_loss: 1.1884 - val_accuracy: 0.6276\n",
            "Epoch 40/50\n",
            "500/500 [==============================] - 10s 21ms/step - loss: 0.6793 - accuracy: 0.7577 - val_loss: 1.2434 - val_accuracy: 0.6283\n",
            "Epoch 41/50\n",
            "500/500 [==============================] - 9s 18ms/step - loss: 0.6638 - accuracy: 0.7605 - val_loss: 1.2268 - val_accuracy: 0.6143\n",
            "Epoch 42/50\n",
            "500/500 [==============================] - 10s 20ms/step - loss: 0.6503 - accuracy: 0.7642 - val_loss: 1.2600 - val_accuracy: 0.6163\n",
            "Epoch 43/50\n",
            "500/500 [==============================] - 10s 20ms/step - loss: 0.6290 - accuracy: 0.7727 - val_loss: 1.2794 - val_accuracy: 0.6133\n",
            "Epoch 44/50\n",
            "500/500 [==============================] - 12s 24ms/step - loss: 0.6179 - accuracy: 0.7756 - val_loss: 1.2915 - val_accuracy: 0.6190\n",
            "Epoch 45/50\n",
            "500/500 [==============================] - 10s 21ms/step - loss: 0.6043 - accuracy: 0.7815 - val_loss: 1.2844 - val_accuracy: 0.6159\n",
            "Epoch 46/50\n",
            "500/500 [==============================] - 9s 18ms/step - loss: 0.5867 - accuracy: 0.7876 - val_loss: 1.3060 - val_accuracy: 0.6219\n",
            "Epoch 47/50\n",
            "500/500 [==============================] - 10s 20ms/step - loss: 0.5868 - accuracy: 0.7867 - val_loss: 1.3390 - val_accuracy: 0.6145\n",
            "Epoch 48/50\n",
            "500/500 [==============================] - 9s 18ms/step - loss: 0.5695 - accuracy: 0.7938 - val_loss: 1.3817 - val_accuracy: 0.6104\n",
            "Epoch 49/50\n",
            "500/500 [==============================] - 10s 20ms/step - loss: 0.5524 - accuracy: 0.7995 - val_loss: 1.3883 - val_accuracy: 0.6046\n",
            "Epoch 50/50\n",
            "500/500 [==============================] - 9s 18ms/step - loss: 0.5383 - accuracy: 0.8058 - val_loss: 1.3807 - val_accuracy: 0.6158\n"
          ]
        }
      ]
    },
    {
      "cell_type": "code",
      "source": [
        "# Evaluate the model\n",
        "test_loss, test_acc = model1.evaluate(test_images, test_labels)\n",
        "print(f'Test accuracy: {test_acc}')"
      ],
      "metadata": {
        "colab": {
          "base_uri": "https://localhost:8080/"
        },
        "id": "55UNEHjXMldJ",
        "outputId": "0548eb0c-d288-4beb-d349-5e34e09117b5"
      },
      "execution_count": 37,
      "outputs": [
        {
          "output_type": "stream",
          "name": "stdout",
          "text": [
            "313/313 [==============================] - 4s 10ms/step - loss: 1.3807 - accuracy: 0.6158\n",
            "Test accuracy: 0.6158000230789185\n"
          ]
        }
      ]
    },
    {
      "cell_type": "code",
      "source": [
        "# Predict on test images\n",
        "predictions = model1.predict(test_images)\n",
        "\n",
        "# Display some test images with predictions\n",
        "num_images_to_show = 5\n",
        "\n",
        "for i in range(num_images_to_show):\n",
        "    # Display the test image\n",
        "    plt.imshow(test_images[i])\n",
        "    plt.axis('off')\n",
        "    plt.show()\n",
        "\n",
        "    # Find the predicted label and the true label\n",
        "    predicted_label = np.argmax(predictions[i])\n",
        "    true_label = np.argmax(test_labels[i])\n",
        "\n",
        "    # Map label indices to actual label names (for CIFAR-10)\n",
        "    label_map = {\n",
        "        0: 'airplane', 1: 'automobile', 2: 'bird', 3: 'cat', 4: 'deer',\n",
        "        5: 'dog', 6: 'frog', 7: 'horse', 8: 'ship', 9: 'truck'\n",
        "    }\n",
        "\n",
        "    # Show the predicted and true labels\n",
        "    print(f\"Predicted: {label_map[predicted_label]} | True Label: {label_map[true_label]}\")"
      ],
      "metadata": {
        "colab": {
          "base_uri": "https://localhost:8080/",
          "height": 1000
        },
        "id": "kcudK5y5Ett2",
        "outputId": "814d3968-cbcc-436e-bacf-fb960a2e715a"
      },
      "execution_count": 39,
      "outputs": [
        {
          "output_type": "stream",
          "name": "stdout",
          "text": [
            "313/313 [==============================] - 4s 10ms/step\n"
          ]
        },
        {
          "output_type": "display_data",
          "data": {
            "text/plain": [
              "<Figure size 640x480 with 1 Axes>"
            ],
            "image/png": "[encoded data removed]"
          },
          "metadata": {}
        },
        {
          "output_type": "stream",
          "name": "stdout",
          "text": [
            "Predicted: dog | True Label: cat\n"
          ]
        },
        {
          "output_type": "display_data",
          "data": {
            "text/plain": [
              "<Figure size 640x480 with 1 Axes>"
            ],
            "image/png": "[encoded data removed]"
          },
          "metadata": {}
        },
        {
          "output_type": "stream",
          "name": "stdout",
          "text": [
            "Predicted: ship | True Label: ship\n"
          ]
        },
        {
          "output_type": "display_data",
          "data": {
            "text/plain": [
              "<Figure size 640x480 with 1 Axes>"
            ],
            "image/png": "[encoded data removed]"
          },
          "metadata": {}
        },
        {
          "output_type": "stream",
          "name": "stdout",
          "text": [
            "Predicted: ship | True Label: ship\n"
          ]
        },
        {
          "output_type": "display_data",
          "data": {
            "text/plain": [
              "<Figure size 640x480 with 1 Axes>"
            ],
            "image/png": "[encoded data removed]"
          },
          "metadata": {}
        },
        {
          "output_type": "stream",
          "name": "stdout",
          "text": [
            "Predicted: truck | True Label: airplane\n"
          ]
        },
        {
          "output_type": "display_data",
          "data": {
            "text/plain": [
              "<Figure size 640x480 with 1 Axes>"
            ],
            "image/png": "[encoded data removed]"
          },
          "metadata": {}
        },
        {
          "output_type": "stream",
          "name": "stdout",
          "text": [
            "Predicted: frog | True Label: frog\n"
          ]
        }
      ]
    },
    {
      "cell_type": "code",
      "source": [],
      "metadata": {
        "id": "rvCha0PEMh1A"
      },
      "execution_count": null,
      "outputs": []
    }
  ]
}